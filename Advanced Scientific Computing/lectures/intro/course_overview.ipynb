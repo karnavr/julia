{
 "cells": [
  {
   "cell_type": "markdown",
   "id": "eb0f9919",
   "metadata": {
    "slideshow": {
     "slide_type": "slide"
    }
   },
   "source": [
    "# Advanced scientific computing: producing better code\n"
   ]
  },
  {
   "cell_type": "markdown",
   "id": "748124f1",
   "metadata": {
    "slideshow": {
     "slide_type": "fragment"
    }
   },
   "source": [
    "Coding is a growing part of biological science. Increasingly, one's ability to write code can determine the scope of the research."
   ]
  },
  {
   "cell_type": "markdown",
   "id": "ef84eef9",
   "metadata": {
    "slideshow": {
     "slide_type": "fragment"
    }
   },
   "source": [
    "Most people are self-taught"
   ]
  },
  {
   "cell_type": "markdown",
   "id": "765ce0ec",
   "metadata": {
    "slideshow": {
     "slide_type": "fragment"
    }
   },
   "source": [
    "Self-teaching is great for getting started, but once you start to hit limits it's hard to know what to do next."
   ]
  },
  {
   "cell_type": "markdown",
   "id": "1cadd15b",
   "metadata": {
    "slideshow": {
     "slide_type": "fragment"
    }
   },
   "source": [
    "Becoming part of the open-source ecosystem involves a whole set of skills that most scientists never learn."
   ]
  },
  {
   "cell_type": "markdown",
   "id": "36cb09d1",
   "metadata": {
    "slideshow": {
     "slide_type": "fragment"
    }
   },
   "source": [
    "The tools that get developed and shared can drive an entire field."
   ]
  },
  {
   "cell_type": "markdown",
   "id": "6d478461",
   "metadata": {
    "slideshow": {
     "slide_type": "slide"
    }
   },
   "source": [
    "# Course goals\n",
    "\n",
    "- to teach *process*: how to become an impactful coder on a worldwide stage\n",
    "- to teach *effective computing* practices: how to leverage opportunities for good design and performance\n",
    "\n",
    "The course will be taught in the [Julia programming language](https://julialang.org/). More on that later."
   ]
  },
  {
   "cell_type": "markdown",
   "id": "91cfea3b",
   "metadata": {
    "slideshow": {
     "slide_type": "slide"
    }
   },
   "source": [
    "# Course structure\n",
    "\n",
    "- For the next two weeks, learn Julia (no more lectures for two weeks)\n",
    "- Assignments will give you a chance to practice: most of your learning will happen here.\n",
    "  + first assignments: two \"half assignments\" weekly, on Canvas\n",
    "  + remaining assignments: GitHub classroom (this will be covered in the second lecture)\n",
    "  \n",
    "Enrolled students who want to receive credit must complete 4/6 lecture-associated assignments.\n"
   ]
  },
  {
   "cell_type": "markdown",
   "id": "af932ac3",
   "metadata": {
    "slideshow": {
     "slide_type": "fragment"
    }
   },
   "source": [
    "Others are invited to participate. In certain stages I will form pairs to, e.g., review each other's pull requests to a collaborative repository."
   ]
  }
 ],
 "metadata": {
  "celltoolbar": "Slideshow",
  "kernelspec": {
   "display_name": "Julia 1.6.3-pre",
   "language": "julia",
   "name": "julia-1.6"
  },
  "language_info": {
   "file_extension": ".jl",
   "mimetype": "application/julia",
   "name": "julia",
   "version": "1.6.4"
  }
 },
 "nbformat": 4,
 "nbformat_minor": 5
}
