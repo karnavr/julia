{
 "cells": [
  {
   "cell_type": "markdown",
   "metadata": {
    "slideshow": {
     "slide_type": "slide"
    }
   },
   "source": [
    "# High-performance computing on your laptop I: inference, compilation, and performance measurement\n",
    "\n",
    "![julia logo](figures/julia_logo.png)\n",
    "\n",
    "Timothy E. Holy\n",
    "\n",
    "Washington University in St. Louis"
   ]
  },
  {
   "cell_type": "markdown",
   "metadata": {
    "slideshow": {
     "slide_type": "slide"
    }
   },
   "source": [
    "# Performance!\n",
    "\n",
    "![fast car](figures/fast_car.jpg)"
   ]
  },
  {
   "cell_type": "markdown",
   "metadata": {
    "slideshow": {
     "slide_type": "subslide"
    }
   },
   "source": [
    "## ...but it's also possible to get this:\n",
    "\n",
    "![slow truck](figures/slow_truck.jpg)\n",
    "\n",
    "Today's goal: learn how to make Julia \"not slow\" when needed"
   ]
  },
  {
   "cell_type": "markdown",
   "metadata": {
    "slideshow": {
     "slide_type": "subslide"
    }
   },
   "source": [
    "# Julia has good tools for helping you discover where things went wrong\n",
    "\n",
    "![tools](figures/tools.png)"
   ]
  },
  {
   "cell_type": "markdown",
   "metadata": {
    "slideshow": {
     "slide_type": "subslide"
    }
   },
   "source": [
    "## ...but your most important tool is this one:\n",
    "\n",
    "![brain](figures/brain.jpg)"
   ]
  },
  {
   "cell_type": "markdown",
   "metadata": {
    "slideshow": {
     "slide_type": "slide"
    }
   },
   "source": [
    "# A tutorial on Julia's inner workings\n",
    "\n",
    "- type inference\n",
    "- methods and specialization\n",
    "- runtime vs compiletime dispatch\n",
    "- benchmarking\n",
    "- profiling\n",
    "\n",
    "Much of this continues from material that we hinted at in the introduction; now that you've had some time to learn Julia, let's dive a little deeper.\n",
    "\n",
    "This is a bit complex, but mastering it provides the foundation you need to quickly become an expert Julia developer!"
   ]
  },
  {
   "cell_type": "markdown",
   "metadata": {
    "slideshow": {
     "slide_type": "slide"
    }
   },
   "source": [
    "# A trivial (but revealing) example, in-depth"
   ]
  },
  {
   "cell_type": "code",
   "execution_count": null,
   "metadata": {
    "slideshow": {
     "slide_type": "-"
    }
   },
   "outputs": [],
   "source": [
    "add2(x) = x[1] + x[2]"
   ]
  },
  {
   "cell_type": "code",
   "execution_count": null,
   "metadata": {
    "slideshow": {
     "slide_type": "fragment"
    }
   },
   "outputs": [],
   "source": [
    "add2( [1.0, 2.0] )"
   ]
  },
  {
   "cell_type": "code",
   "execution_count": null,
   "metadata": {
    "slideshow": {
     "slide_type": "fragment"
    }
   },
   "outputs": [],
   "source": [
    "add2( [1, 2] )"
   ]
  },
  {
   "cell_type": "code",
   "execution_count": null,
   "metadata": {
    "slideshow": {
     "slide_type": "subslide"
    }
   },
   "outputs": [],
   "source": [
    "methods(add2)"
   ]
  },
  {
   "cell_type": "code",
   "execution_count": null,
   "metadata": {
    "slideshow": {
     "slide_type": "fragment"
    }
   },
   "outputs": [],
   "source": [
    "m = @which add2([1, 2])\n",
    "m"
   ]
  },
  {
   "cell_type": "code",
   "execution_count": null,
   "metadata": {
    "slideshow": {
     "slide_type": "fragment"
    }
   },
   "outputs": [],
   "source": [
    "using MethodAnalysis\n",
    "methodinstances(m)"
   ]
  },
  {
   "cell_type": "markdown",
   "metadata": {
    "slideshow": {
     "slide_type": "fragment"
    }
   },
   "source": [
    "We get two *MethodInstances* from a single *Method*: **compiler specialization**."
   ]
  },
  {
   "cell_type": "code",
   "execution_count": null,
   "metadata": {
    "slideshow": {
     "slide_type": "subslide"
    }
   },
   "outputs": [],
   "source": [
    "# Let's make another!\n",
    "add2( (1, 2.0) )"
   ]
  },
  {
   "cell_type": "code",
   "execution_count": null,
   "metadata": {
    "slideshow": {
     "slide_type": "fragment"
    }
   },
   "outputs": [],
   "source": [
    "methodinstances(m)"
   ]
  },
  {
   "cell_type": "markdown",
   "metadata": {
    "slideshow": {
     "slide_type": "fragment"
    }
   },
   "source": [
    "Julia creates these the first time you call `add2` with a new type."
   ]
  },
  {
   "cell_type": "markdown",
   "metadata": {
    "slideshow": {
     "slide_type": "fragment"
    }
   },
   "source": [
    "On later calls, Julia just uses the code it has already compiled."
   ]
  },
  {
   "cell_type": "markdown",
   "metadata": {
    "slideshow": {
     "slide_type": "subslide"
    }
   },
   "source": [
    "## What are the differences between these MethodInstances?\n",
    "\n",
    "Julia lets you see how this works:"
   ]
  },
  {
   "cell_type": "code",
   "execution_count": null,
   "metadata": {
    "slideshow": {
     "slide_type": "-"
    }
   },
   "outputs": [],
   "source": [
    "@code_lowered add2([1, 2])  # represents the Method, not a particular MethodInstance"
   ]
  },
  {
   "cell_type": "markdown",
   "metadata": {
    "slideshow": {
     "slide_type": "fragment"
    }
   },
   "source": [
    "`x[1]` is implemented as a call `getindex(x, 1)`. The `getindex` function is defined in `Base`."
   ]
  },
  {
   "cell_type": "markdown",
   "metadata": {
    "slideshow": {
     "slide_type": "fragment"
    }
   },
   "source": [
    "`%1`, `%2`, `%3` are like temporary variables. (Compiler lingo: [single static assignment (SSA) values](https://en.wikipedia.org/wiki/Static_single_assignment_form).)\n"
   ]
  },
  {
   "cell_type": "markdown",
   "metadata": {
    "slideshow": {
     "slide_type": "fragment"
    }
   },
   "source": [
    "Some of the other markers indicate blocks of code that execute without any branches (no `if`, `while`, etc. within the block)"
   ]
  },
  {
   "cell_type": "code",
   "execution_count": null,
   "metadata": {
    "slideshow": {
     "slide_type": "subslide"
    }
   },
   "outputs": [],
   "source": [
    "@code_typed optimize=false add2([1, 2])    # represents the specific MethodInstance"
   ]
  },
  {
   "cell_type": "code",
   "execution_count": null,
   "metadata": {
    "slideshow": {
     "slide_type": "fragment"
    }
   },
   "outputs": [],
   "source": [
    "@code_typed optimize=false add2([1.0, 2.0])"
   ]
  },
  {
   "cell_type": "code",
   "execution_count": null,
   "metadata": {
    "slideshow": {
     "slide_type": "subslide"
    }
   },
   "outputs": [],
   "source": [
    "@code_typed optimize=false add2((1, 2.0))"
   ]
  },
  {
   "cell_type": "markdown",
   "metadata": {
    "slideshow": {
     "slide_type": "subslide"
    }
   },
   "source": [
    "## How does Julia know this?"
   ]
  },
  {
   "cell_type": "code",
   "execution_count": null,
   "metadata": {
    "slideshow": {
     "slide_type": "-"
    }
   },
   "outputs": [],
   "source": [
    "typeof([1, 2])"
   ]
  },
  {
   "cell_type": "code",
   "execution_count": null,
   "metadata": {
    "slideshow": {
     "slide_type": "fragment"
    }
   },
   "outputs": [],
   "source": [
    "@code_typed optimize=false getindex([1, 2], 1)"
   ]
  },
  {
   "cell_type": "code",
   "execution_count": null,
   "metadata": {
    "slideshow": {
     "slide_type": "fragment"
    }
   },
   "outputs": [],
   "source": [
    "@code_typed optimize=false 1+2"
   ]
  },
  {
   "cell_type": "code",
   "execution_count": null,
   "metadata": {
    "slideshow": {
     "slide_type": "fragment"
    }
   },
   "outputs": [],
   "source": [
    "@code_typed optimize=false Base.add_int(1, 2)"
   ]
  },
  {
   "cell_type": "code",
   "execution_count": null,
   "metadata": {
    "slideshow": {
     "slide_type": "subslide"
    }
   },
   "outputs": [],
   "source": [
    "@code_typed optimize=false 1 + 2.0"
   ]
  },
  {
   "cell_type": "code",
   "execution_count": null,
   "metadata": {
    "slideshow": {
     "slide_type": "fragment"
    }
   },
   "outputs": [],
   "source": [
    "@code_typed optimize=true 1 + 2.0"
   ]
  },
  {
   "cell_type": "markdown",
   "metadata": {
    "slideshow": {
     "slide_type": "fragment"
    }
   },
   "source": [
    "You can look even deeper with `@code_llvm` (shows the final result of Julia's compiler before handing the code off to [LLVM](https://llvm.org/)) and `@code_native` (the final CPU instructions optimized for your specific machine)."
   ]
  },
  {
   "cell_type": "markdown",
   "metadata": {
    "slideshow": {
     "slide_type": "slide"
    }
   },
   "source": [
    "# A summary of how Julia builds code\n",
    "\n",
    "Strings in your files get *parsed* into Julia `Expr`essions"
   ]
  },
  {
   "cell_type": "markdown",
   "metadata": {
    "slideshow": {
     "slide_type": "fragment"
    }
   },
   "source": [
    "`Expr`essions get *lowered* (like `@code_lowered`).\n",
    "\n",
    "**Tip**: This is mostly what gets saved to a file when you see `[ Info: Precompiling...`"
   ]
  },
  {
   "cell_type": "markdown",
   "metadata": {
    "slideshow": {
     "slide_type": "subslide"
    }
   },
   "source": [
    "When you call `f(args...)`, either:\n",
    "- the native code gets looked up in the in-memory storage and then run\n",
    "- OR:\n",
    "  + `f` gets type-inferred for the argument types\n",
    "  + the type-inferred code gets optimized by Julia (this gets stored in memory)\n",
    "  + the result gets compiled by LLVM (this also gets stored in memory)\n",
    "  + Julia runs the compiled code"
   ]
  },
  {
   "cell_type": "markdown",
   "metadata": {
    "slideshow": {
     "slide_type": "slide"
    }
   },
   "source": [
    "# Dispatch: runtime vs compile-time\n",
    "\n",
    "Remember that `add2` is defined as\n",
    "\n",
    "```julia\n",
    "add2(x) = x[1] + x[2]\n",
    "```\n",
    "\n",
    "However:"
   ]
  },
  {
   "cell_type": "code",
   "execution_count": null,
   "metadata": {},
   "outputs": [],
   "source": [
    "+"
   ]
  },
  {
   "cell_type": "markdown",
   "metadata": {
    "slideshow": {
     "slide_type": "fragment"
    }
   },
   "source": [
    "Which of these 190 methods gets called?"
   ]
  },
  {
   "cell_type": "code",
   "execution_count": null,
   "metadata": {
    "slideshow": {
     "slide_type": "subslide"
    }
   },
   "outputs": [],
   "source": [
    "@code_typed optimize=false add2( (1, 2.0) )"
   ]
  },
  {
   "cell_type": "code",
   "execution_count": null,
   "metadata": {
    "slideshow": {
     "slide_type": "subslide"
    }
   },
   "outputs": [],
   "source": [
    "@code_typed optimize=true add2((1, 2.0))   # optimize=true performing inlining: https://en.wikipedia.org/wiki/Inline_expansion"
   ]
  },
  {
   "cell_type": "markdown",
   "metadata": {
    "slideshow": {
     "slide_type": "fragment"
    }
   },
   "source": [
    "Julia didn't have to ask that question when the function was running: the types could be inferred and so Julia could determine which method was applicable when the code was being compiled."
   ]
  },
  {
   "cell_type": "markdown",
   "metadata": {
    "slideshow": {
     "slide_type": "fragment"
    }
   },
   "source": [
    "\"Compile-time dispatch\""
   ]
  },
  {
   "cell_type": "code",
   "execution_count": null,
   "metadata": {
    "slideshow": {
     "slide_type": "subslide"
    }
   },
   "outputs": [],
   "source": [
    "@code_typed optimize=true add2( Any[1, 2.0] )   # call it on a `Vector{Any}`"
   ]
  },
  {
   "cell_type": "markdown",
   "metadata": {
    "slideshow": {
     "slide_type": "fragment"
    }
   },
   "source": [
    "It doesn't get very far in optimizing your code."
   ]
  },
  {
   "cell_type": "markdown",
   "metadata": {
    "slideshow": {
     "slide_type": "fragment"
    }
   },
   "source": [
    "\"Run-time dispatch\": types have to be checked while the code is running, and then the appropriate method chosen, possibly compiled, and executed."
   ]
  },
  {
   "cell_type": "markdown",
   "metadata": {
    "slideshow": {
     "slide_type": "slide"
    }
   },
   "source": [
    "# Runtime vs compiletime dispatch\n",
    "\n",
    "A compiled function is a \"blob\" of native code living in a particular memory location."
   ]
  },
  {
   "cell_type": "markdown",
   "metadata": {
    "slideshow": {
     "slide_type": "fragment"
    }
   },
   "source": [
    "Calling a function involves:\n",
    "- preparing the arguments\n",
    "- deciding *which* specific compiled blob to use. This is like looking up someone's phone number in the phone book. Julia literally scans through the method tables."
   ]
  },
  {
   "cell_type": "markdown",
   "metadata": {
    "slideshow": {
     "slide_type": "subslide"
    }
   },
   "source": [
    "This decision can be made during *runtime* (when code is executing) or during *compiletime* (when Julia is compiling the function)."
   ]
  },
  {
   "cell_type": "markdown",
   "metadata": {
    "slideshow": {
     "slide_type": "fragment"
    }
   },
   "source": [
    "Schematic of a compiletime call in pseudo-Julia:\n",
    "```julia\n",
    "push!(execution_stack, args)\n",
    "@goto compiled_blob_52383\n",
    "```\n",
    "(The blob will retrieve the argument values by [popping the execution stack](https://en.wikipedia.org/wiki/Call_stack).)"
   ]
  },
  {
   "cell_type": "markdown",
   "metadata": {
    "slideshow": {
     "slide_type": "fragment"
    }
   },
   "source": [
    "Schematic of a runtime call in pseudo-Julia:\n",
    "```julia\n",
    "# scan the method tables and their lists of compiled blobs for a match\n",
    "# if the right blob hasn't been compiled yet, compile it now\n",
    "blob = get_blob_for_argtypes(f, typesof(args))\n",
    "# The rest looks the same as a compiletime call:\n",
    "push!(execution_stack, args)\n",
    "goto(blob)\n",
    "```"
   ]
  },
  {
   "cell_type": "markdown",
   "metadata": {
    "slideshow": {
     "slide_type": "slide"
    }
   },
   "source": [
    "# Comparing the performance of runtime vs compile-time dispatch\n",
    "\n",
    "We'll use the [BenchmarkTools](https://github.com/JuliaCI/BenchmarkTools.jl) package."
   ]
  },
  {
   "cell_type": "code",
   "execution_count": null,
   "metadata": {
    "slideshow": {
     "slide_type": "-"
    }
   },
   "outputs": [],
   "source": [
    "using BenchmarkTools\n",
    "@btime add2( (1, 2.0) ) # setup=(x = rand(1:5); y = rand())"
   ]
  },
  {
   "cell_type": "code",
   "execution_count": null,
   "metadata": {},
   "outputs": [],
   "source": [
    "@btime add2(z) setup=(z = rand(2))"
   ]
  },
  {
   "cell_type": "code",
   "execution_count": null,
   "metadata": {
    "slideshow": {
     "slide_type": "fragment"
    }
   },
   "outputs": [],
   "source": [
    "@btime add2(z) setup=(x = rand(1:5); y = rand(); z = Any[x, y])"
   ]
  },
  {
   "cell_type": "markdown",
   "metadata": {
    "slideshow": {
     "slide_type": "subslide"
    }
   },
   "source": [
    "Ballpark costs of runtime dispatch:\n",
    "- single argument: 15-35ns\n",
    "- two arguments: ~100ns\n",
    "- ...\n"
   ]
  },
  {
   "cell_type": "markdown",
   "metadata": {
    "slideshow": {
     "slide_type": "fragment"
    }
   },
   "source": [
    "Runtime dispatch is *slow*. It's also the most common reason to get performance that disappoints."
   ]
  },
  {
   "cell_type": "markdown",
   "metadata": {
    "slideshow": {
     "slide_type": "subslide"
    }
   },
   "source": [
    "## Union-splitting\n",
    "\n",
    "An intermediate case is [Union-splitting](https://julialang.org/blog/2018/08/union-splitting/), where Julia can determine that there are only a few possible argument types:"
   ]
  },
  {
   "cell_type": "code",
   "execution_count": null,
   "metadata": {
    "scrolled": true,
    "slideshow": {
     "slide_type": "-"
    }
   },
   "outputs": [],
   "source": [
    "@btime add2(z) setup=(x = rand(Float32); y = rand(); z = Union{Float32,Float64}[x, y])"
   ]
  },
  {
   "cell_type": "markdown",
   "metadata": {
    "slideshow": {
     "slide_type": "fragment"
    }
   },
   "source": [
    "```julia\n",
    "argtypes = typesof(args)\n",
    "push!(execution_stack, args)\n",
    "if argtypes === Tuple{Float32}\n",
    "    @goto compiled_blob_52383\n",
    "else # the only other option is Tuple{Float64}\n",
    "    @goto compiled_blob_52951\n",
    "end\n",
    "```\n",
    "Note the absence of the need to call `get_blob_for_argtypes`. Union-splitting generalizes compiletime dispatch."
   ]
  },
  {
   "cell_type": "markdown",
   "metadata": {
    "slideshow": {
     "slide_type": "slide"
    }
   },
   "source": [
    "# Profiling\n",
    "\n",
    "*Profiling* allows you to measure where you code spends its time."
   ]
  },
  {
   "cell_type": "markdown",
   "metadata": {
    "slideshow": {
     "slide_type": "fragment"
    }
   },
   "source": [
    "An *instrumenting profiler* adds measurement \"instrumentation\" to your source code: if you wrote\n",
    "\n",
    "```julia\n",
    "y = f(x)                  # this is line 17\n",
    "z = g(x, y)               # this is line 18\n",
    "```"
   ]
  },
  {
   "cell_type": "markdown",
   "metadata": {
    "slideshow": {
     "slide_type": "fragment"
    }
   },
   "source": [
    "an instrumenting profiler might effectively turn this into\n",
    "\n",
    "```julia\n",
    "push!(timebuffer, ProfileInfo(\"somefile.jl\", 17, time()))\n",
    "y = f(x)                  # this is line 17\n",
    "push!(timebuffer, ProfileInfo(\"somefile.jl\", 18, time()))\n",
    "z = g(x, y)               # this is line 18\n",
    "push!(timebuffer, ProfileInfo(\"somefile.jl\", 19, time()))\n",
    "...\n",
    "```"
   ]
  },
  {
   "cell_type": "markdown",
   "metadata": {
    "slideshow": {
     "slide_type": "subslide"
    }
   },
   "source": [
    "Problems with instrumenting profilers:\n",
    "- instrumentation slows your code\n",
    "- instrumentation can block compiler optimizations: the compiled code of the real version may be quite different from that of the instrumented code \"minus instrumentation\"\n",
    "- recursion is a bit tricky: if you also instrument `f`, the added instrumentation inside `f` distorts your measurement of the runtime of `f` itself."
   ]
  },
  {
   "cell_type": "markdown",
   "metadata": {
    "slideshow": {
     "slide_type": "subslide"
    }
   },
   "source": [
    "## Sampling profilers\n",
    "\n",
    "A sampling profiler periodically interrupts your code and collections program-location data."
   ]
  },
  {
   "cell_type": "markdown",
   "metadata": {
    "slideshow": {
     "slide_type": "fragment"
    }
   },
   "source": [
    "Analogy: a person spends\n",
    "- 8 hours a day at work\n",
    "- 1 hour a day at the gym\n",
    "\n",
    "At random times, a friend texts and says \"where r u?\" Do this hundreds of times over a month."
   ]
  },
  {
   "cell_type": "code",
   "execution_count": null,
   "metadata": {
    "slideshow": {
     "slide_type": "subslide"
    }
   },
   "outputs": [],
   "source": [
    "using PyPlot\n",
    "location = [rand(1:9) <= 8 ? \"work\" : \"gym\" for i = 1:1000]\n",
    "hist(location)\n",
    "ylabel(\"Counts\");"
   ]
  },
  {
   "cell_type": "markdown",
   "metadata": {
    "slideshow": {
     "slide_type": "fragment"
    }
   },
   "source": [
    "Approximately 8x more of the locations were \"work\", so you infer the person spends ≈8x more time at work."
   ]
  },
  {
   "cell_type": "markdown",
   "metadata": {
    "slideshow": {
     "slide_type": "subslide"
    }
   },
   "source": [
    "Disadvantages of sampling profilers:\n",
    "\n",
    "- you don't collect exhaustive information: spending 5 minutes at the bank will only rarely be captured at all\n",
    "- it's subject to sampling noise (given `n` counts, you have an uncertainty of approx. `√n` counts)"
   ]
  },
  {
   "cell_type": "markdown",
   "metadata": {
    "slideshow": {
     "slide_type": "fragment"
    }
   },
   "source": [
    "Advantages of sampling profilers:\n",
    "\n",
    "- you're running *unmodified* code"
   ]
  },
  {
   "cell_type": "markdown",
   "metadata": {
    "slideshow": {
     "slide_type": "subslide"
    }
   },
   "source": [
    "# Demo of profiling"
   ]
  },
  {
   "cell_type": "code",
   "execution_count": null,
   "metadata": {},
   "outputs": [],
   "source": [
    "# could also use `sleep` but it gives more complicated profiling results\n",
    "function busywait(t)\n",
    "    x = 0\n",
    "    for i = 1:round(Int, 2.1e10*t)\n",
    "        x += i % 2\n",
    "    end\n",
    "    return x    # return `x` to prevent the compiler from noticing that this does't do real work & eliminating it\n",
    "end"
   ]
  },
  {
   "cell_type": "code",
   "execution_count": null,
   "metadata": {
    "slideshow": {
     "slide_type": "fragment"
    }
   },
   "outputs": [],
   "source": [
    "@time busywait(0.8)"
   ]
  },
  {
   "cell_type": "code",
   "execution_count": null,
   "metadata": {
    "slideshow": {
     "slide_type": "fragment"
    }
   },
   "outputs": [],
   "source": [
    "function mydays(n)\n",
    "    x = 0\n",
    "    for i = 1:n\n",
    "        x += work()\n",
    "        x += gym()\n",
    "    end\n",
    "    return x\n",
    "end\n",
    "@noinline work() = busywait(0.08)\n",
    "@noinline gym() = busywait(0.01)"
   ]
  },
  {
   "cell_type": "code",
   "execution_count": null,
   "metadata": {
    "slideshow": {
     "slide_type": "subslide"
    }
   },
   "outputs": [],
   "source": [
    "mydays(1)    # run once to compile it"
   ]
  },
  {
   "cell_type": "code",
   "execution_count": null,
   "metadata": {
    "slideshow": {
     "slide_type": "fragment"
    }
   },
   "outputs": [],
   "source": [
    "using Profile\n",
    "Profile.clear()     # clear old results (not really needed on the first usage)\n",
    "@profile mydays(30)"
   ]
  },
  {
   "cell_type": "code",
   "execution_count": null,
   "metadata": {
    "slideshow": {
     "slide_type": "subslide"
    }
   },
   "outputs": [],
   "source": [
    "Profile.print(format=:flat)"
   ]
  },
  {
   "cell_type": "code",
   "execution_count": null,
   "metadata": {
    "slideshow": {
     "slide_type": "subslide"
    }
   },
   "outputs": [],
   "source": [
    "Profile.print(format=:tree)"
   ]
  },
  {
   "cell_type": "markdown",
   "metadata": {
    "slideshow": {
     "slide_type": "subslide"
    }
   },
   "source": [
    "## Visualization of profile data"
   ]
  },
  {
   "cell_type": "code",
   "execution_count": null,
   "metadata": {},
   "outputs": [],
   "source": [
    "using ProfileSVG       # for \"real\" work, ProfileView is recommeded instead\n",
    "ProfileSVG.view()"
   ]
  },
  {
   "cell_type": "markdown",
   "metadata": {
    "slideshow": {
     "slide_type": "fragment"
    }
   },
   "source": [
    "\"FlameGraph\":\n",
    "- height encodes the call depth (bars get called by the bar below them)\n",
    "- width is proportional to run time"
   ]
  },
  {
   "cell_type": "markdown",
   "metadata": {
    "slideshow": {
     "slide_type": "slide"
    }
   },
   "source": [
    "# Performance profiling in action"
   ]
  },
  {
   "cell_type": "code",
   "execution_count": null,
   "metadata": {},
   "outputs": [],
   "source": [
    "function mult(A, B, x)\n",
    "    C = A * B\n",
    "    return C * x\n",
    "end\n",
    "\n",
    "A = rand(10000, 2)\n",
    "B = rand(2, 8000)\n",
    "x = rand(8000)\n",
    "\n",
    "mult(A, B, x);"
   ]
  },
  {
   "cell_type": "code",
   "execution_count": null,
   "metadata": {
    "slideshow": {
     "slide_type": "subslide"
    }
   },
   "outputs": [],
   "source": [
    "@time mult(A, B, x);"
   ]
  },
  {
   "cell_type": "code",
   "execution_count": null,
   "metadata": {
    "slideshow": {
     "slide_type": "fragment"
    }
   },
   "outputs": [],
   "source": [
    "@profview mult(A, B, x)  "
   ]
  },
  {
   "cell_type": "code",
   "execution_count": null,
   "metadata": {
    "slideshow": {
     "slide_type": "subslide"
    }
   },
   "outputs": [],
   "source": [
    "function mult2(A, B, x)\n",
    "#     C = A * B\n",
    "#     return C * x\n",
    "    y = B * x\n",
    "    return A * y\n",
    "end\n",
    "\n",
    "mult2(A, B, x) ≈ mult(A, B, x)"
   ]
  },
  {
   "cell_type": "code",
   "execution_count": null,
   "metadata": {
    "slideshow": {
     "slide_type": "fragment"
    }
   },
   "outputs": [],
   "source": [
    "@time mult2(A, B, x);"
   ]
  },
  {
   "cell_type": "markdown",
   "metadata": {
    "slideshow": {
     "slide_type": "fragment"
    }
   },
   "source": [
    "We'll cover *why* this is better in the next session."
   ]
  },
  {
   "cell_type": "markdown",
   "metadata": {
    "slideshow": {
     "slide_type": "slide"
    }
   },
   "source": [
    "# Using profiling to detect \"gotchas\"\n",
    "\n",
    "Recall that `add2` was slow when passed a `Vector{Any}`, but fast for a `Vector{T}` with concrete `T`"
   ]
  },
  {
   "cell_type": "code",
   "execution_count": null,
   "metadata": {},
   "outputs": [],
   "source": [
    "@btime add2(z) setup=(x = rand(1:5); y = rand(1:5); z = [x, y])"
   ]
  },
  {
   "cell_type": "code",
   "execution_count": null,
   "metadata": {
    "slideshow": {
     "slide_type": "fragment"
    }
   },
   "outputs": [],
   "source": [
    "@btime add2(z) setup=(x = rand(1:5); y = rand(1:5); z = Any[x, y])"
   ]
  },
  {
   "cell_type": "code",
   "execution_count": null,
   "metadata": {
    "slideshow": {
     "slide_type": "subslide"
    }
   },
   "outputs": [],
   "source": [
    "@bprofile add2(z) setup=(x = rand(1:5); y = rand(1:5); z = Any[x, y])"
   ]
  },
  {
   "cell_type": "code",
   "execution_count": null,
   "metadata": {
    "slideshow": {
     "slide_type": "subslide"
    }
   },
   "outputs": [],
   "source": [
    "ProfileSVG.view()"
   ]
  },
  {
   "cell_type": "markdown",
   "metadata": {},
   "source": [
    "- red: runtime dispatch\n",
    "- yellow/orange: memory cleanup (correlates with memory allocation)"
   ]
  },
  {
   "cell_type": "markdown",
   "metadata": {
    "slideshow": {
     "slide_type": "slide"
    }
   },
   "source": [
    "(Demo using ProfileView to detect & diagnose type problems)"
   ]
  },
  {
   "cell_type": "markdown",
   "metadata": {
    "slideshow": {
     "slide_type": "slide"
    }
   },
   "source": [
    "# Summary\n",
    "\n",
    "Julia *can* be fast. But you need to learn enough to avoid some common gotchas:\n",
    "\n",
    "- don't use non-`const` global variables (see homework)\n",
    "- don't use containers like arrays with non-concrete types unless absolutely necessary\n",
    "- measure & analyze performance with `@time`, BenchmarkTools, and `@profile`/ProfileView"
   ]
  }
 ],
 "metadata": {
  "@webio": {
   "lastCommId": null,
   "lastKernelId": null
  },
  "celltoolbar": "Slideshow",
  "kernelspec": {
   "display_name": "Julia 1.6.3-pre",
   "language": "julia",
   "name": "julia-1.6"
  },
  "language_info": {
   "file_extension": ".jl",
   "mimetype": "application/julia",
   "name": "julia",
   "version": "1.6.4"
  }
 },
 "nbformat": 4,
 "nbformat_minor": 4
}
